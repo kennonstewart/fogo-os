{
 "cells": [
  {
   "cell_type": "code",
   "execution_count": 2,
   "id": "9200448d",
   "metadata": {},
   "outputs": [
    {
     "ename": "ModuleNotFoundError",
     "evalue": "No module named 'cv2'",
     "output_type": "error",
     "traceback": [
      "\u001b[31m---------------------------------------------------------------------------\u001b[39m",
      "\u001b[31mModuleNotFoundError\u001b[39m                       Traceback (most recent call last)",
      "\u001b[36mCell\u001b[39m\u001b[36m \u001b[39m\u001b[32mIn[2]\u001b[39m\u001b[32m, line 1\u001b[39m\n\u001b[32m----> \u001b[39m\u001b[32m1\u001b[39m \u001b[38;5;28;01mimport\u001b[39;00m\u001b[38;5;250m \u001b[39m\u001b[34;01mcv2\u001b[39;00m\n\u001b[32m      2\u001b[39m \u001b[38;5;28;01mfrom\u001b[39;00m\u001b[38;5;250m \u001b[39m\u001b[34;01mdeepface\u001b[39;00m\u001b[38;5;250m \u001b[39m\u001b[38;5;28;01mimport\u001b[39;00m DeepFace\n\u001b[32m      3\u001b[39m \u001b[38;5;28;01mimport\u001b[39;00m\u001b[38;5;250m \u001b[39m\u001b[34;01mos\u001b[39;00m \u001b[38;5;66;03m# Import the os module for path manipulation\u001b[39;00m\n",
      "\u001b[31mModuleNotFoundError\u001b[39m: No module named 'cv2'"
     ]
    }
   ],
   "source": [
    "import cv2\n",
    "from deepface import DeepFace\n",
    "import os # Import the os module for path manipulation\n",
    "\n",
    "# Load your reference image of your dad\n",
    "reference_img_path = \"videos/me.jpeg\" # Ensure this path is correct and the image is accessible\n",
    "\n",
    "# Load video file (or replace with camera stream)\n",
    "video_path = \"videos/dad_walking_cropped.mp4\" # Ensure this path is correct and the video is accessible\n",
    "cap = cv2.VideoCapture(video_path)\n",
    "\n",
    "frame_count = 0\n",
    "detected_frames = []\n",
    "\n",
    "# Create a directory to save detected faces, if it doesn't exist\n",
    "output_dir = \"detected_dad_faces\"\n",
    "if not os.path.exists(output_dir):\n",
    "    os.makedirs(output_dir)\n",
    "\n",
    "print(\"Starting facial recognition...\")\n",
    "\n",
    "while True:\n",
    "    ret, frame = cap.read()\n",
    "    if not ret:\n",
    "        break\n",
    "\n",
    "    frame_count += 1\n",
    "\n",
    "    try:\n",
    "        # Perform face verification using DeepFace\n",
    "        # DeepFace.verify returns a dictionary with 'verified' as a key\n",
    "        # You can also set enforce_detection=False if you want to skip face detection before verification,\n",
    "        # but it's generally recommended for better accuracy.\n",
    "        result = DeepFace.verify(img1_path=reference_img_path, img2_path=frame, model_name=\"VGG-Face\", enforce_detection=True)\n",
    "\n",
    "        if result[\"verified\"]:\n",
    "            print(f\"Dad detected in frame {frame_count}!\")\n",
    "            detected_frames.append(frame_count)\n",
    "\n",
    "            # Optionally, save the frame where your dad was detected\n",
    "            output_frame_path = os.path.join(output_dir, f\"dad_detected_frame_{frame_count}.jpg\")\n",
    "            cv2.imwrite(output_frame_path, frame)\n",
    "\n",
    "    except Exception as e:\n",
    "        # This catch-all handles cases where a face might not be detected in a frame,\n",
    "        # or other DeepFace-related errors.\n",
    "        print(f\"Could not verify face in frame {frame_count}: {e}\")\n",
    "        continue\n",
    "\n",
    "cap.release()\n",
    "cv2.destroyAllWindows() # Close any OpenCV windows\n",
    "print(\"\\nFinished processing.\")\n",
    "print(f\"Dad was detected in a total of {len(detected_frames)} frames.\")\n",
    "print(f\"Frames where dad was detected: {detected_frames}\")"
   ]
  }
 ],
 "metadata": {
  "kernelspec": {
   "display_name": ".venv",
   "language": "python",
   "name": "python3"
  },
  "language_info": {
   "codemirror_mode": {
    "name": "ipython",
    "version": 3
   },
   "file_extension": ".py",
   "mimetype": "text/x-python",
   "name": "python",
   "nbconvert_exporter": "python",
   "pygments_lexer": "ipython3",
   "version": "3.12.1"
  }
 },
 "nbformat": 4,
 "nbformat_minor": 5
}
